{
  "nbformat": 4,
  "nbformat_minor": 0,
  "metadata": {
    "kernelspec": {
      "display_name": "Python 3 (ipykernel)",
      "language": "python",
      "name": "python3"
    },
    "language_info": {
      "codemirror_mode": {
        "name": "ipython",
        "version": 3
      },
      "file_extension": ".py",
      "mimetype": "text/x-python",
      "name": "python",
      "nbconvert_exporter": "python",
      "pygments_lexer": "ipython3",
      "version": "3.7.12"
    },
    "colab": {
      "name": "workshop-notebook.ipynb",
      "provenance": []
    },
    "accelerator": "GPU"
  },
  "cells": [
    {
      "cell_type": "markdown",
      "metadata": {
        "id": "6CuQLlluVh26"
      },
      "source": [
        "# MNIST: Introduction to CNN Keras\n",
        "\n",
        "* **1. Introduction**\n",
        "* **2. Data preparation**\n",
        "    * 2.1 Load data\n",
        "    * 2.2 Normalization\n",
        "    * 2.3 Reshape\n",
        "    * 2.4 Label encoding\n",
        "    * 2.5 Split training and valdiation set\n",
        "* **3. Convolution Neural Network**\n",
        "    * 3.1 Define the model\n",
        "    * 3.2 Data augmentation\n",
        "    * 3.3 Model training\n",
        "* **4. Evaluate the model**\n",
        "    * 4.1 Training and validation curves\n",
        "* **5. Prediction and submition**\n",
        "    * 5.1 Prediction validation results\n",
        "    * 5.2 Submition\n",
        "* **6. References**\n",
        "* **7. Sklearn Soluation**"
      ]
    },
    {
      "cell_type": "markdown",
      "metadata": {
        "id": "E39JXcjWVh2-"
      },
      "source": [
        "# 1. Introduction\n",
        "\n",
        "This kernel is your start in deep learning.\n",
        "\n",
        "MNIST (\"Modified National Institute of Standards and Technology\") is the de facto “hello world” dataset of computer vision. Since its release in 1999, this classic dataset of handwritten images has served as the basis for benchmarking classification algorithms. A new machine learning techniques emerge, MNIST remains a reliable resource for researchers and learners alike.  In this competition, your goal is to correctly identify digits from a dataset of tens of thousands of handwritten images. We’ve curated a set of tutorial-style kernels which cover everything from regression to neural networks. We encourage you to experiment with different algorithms to learn first-hand what works well and how techniques compare."
      ]
    },
    {
      "cell_type": "markdown",
      "metadata": {
        "_uuid": "7ed04b1e7a00a7ad31ee98a7d8e55880e6274f29",
        "id": "dlHltKkmVh2_"
      },
      "source": [
        "**Import all Necessary Libraries**"
      ]
    },
    {
      "cell_type": "code",
      "metadata": {
        "_uuid": "0f935bddcc5ca02702578e712bf7f396ba7154ef",
        "id": "VKKIMunOVh3A"
      },
      "source": [
        "import pandas as pd\n",
        "import numpy as np\n",
        "\n",
        "import matplotlib.pyplot as plt\n",
        "import seaborn as sns\n",
        "\n",
        "from sklearn.model_selection import train_test_split\n",
        "from sklearn.metrics import confusion_matrix\n",
        "\n",
        "\n",
        "from keras.datasets import mnist\n",
        "from keras.models import Sequential\n",
        "from keras.layers import Conv2D, Lambda, MaxPooling2D # convolution layers\n",
        "from keras.layers import Dense, Dropout, Flatten # core layers\n",
        "from keras.layers import BatchNormalization\n",
        "\n",
        "from keras.preprocessing.image import ImageDataGenerator\n",
        "\n",
        "from keras.utils.np_utils import to_categorical\n",
        "\n",
        "#from keras.datasets import mnist"
      ],
      "execution_count": 6,
      "outputs": []
    },
    {
      "cell_type": "markdown",
      "metadata": {
        "_uuid": "f94870f1682c45b0e4ea378d287302656af3cf8e",
        "id": "p1Mbgsj1Vh3D"
      },
      "source": [
        "# 2. Data preparation\n",
        "## 2.1 Load data"
      ]
    },
    {
      "cell_type": "markdown",
      "metadata": {
        "id": "7gPy6q7mVh3F"
      },
      "source": [
        "**Set data features and labels**"
      ]
    },
    {
      "cell_type": "code",
      "metadata": {
        "id": "a3kvd1sLVh3E",
        "outputId": "3eb3b99f-5b59-4a9c-9a97-b113b8199cd6",
        "colab": {
          "base_uri": "https://localhost:8080/"
        }
      },
      "source": [
        "(X, y), (test_x, test_y) = mnist.load_data()\n",
        "assert X.shape == (60000, 28, 28)\n",
        "assert test_x.shape == (10000, 28, 28)\n",
        "assert y.shape == (60000,)\n",
        "assert test_y.shape == (10000,)\n",
        "\n",
        "print(\"Data are Ready!!\")\n"
      ],
      "execution_count": 7,
      "outputs": [
        {
          "output_type": "stream",
          "name": "stdout",
          "text": [
            "Data are Ready!!\n"
          ]
        }
      ]
    },
    {
      "cell_type": "markdown",
      "metadata": {
        "id": "2t0PhTPYVh3H"
      },
      "source": [
        "## 2.2 Normalization"
      ]
    },
    {
      "cell_type": "markdown",
      "metadata": {
        "id": "2e3a4NDmVh3H"
      },
      "source": [
        "We perform a grayscale normalization to reduce the effect of illumination's differences. \n",
        "\n",
        "Moreover the CNN converg faster on [0..1] data than on [0..255]."
      ]
    },
    {
      "cell_type": "code",
      "metadata": {
        "id": "GvW-gGQRVh3I"
      },
      "source": [
        "X = X / 255.0\n",
        "test_x = test_x / 255.0"
      ],
      "execution_count": 8,
      "outputs": []
    },
    {
      "cell_type": "markdown",
      "metadata": {
        "id": "aSF2onrvVh3I"
      },
      "source": [
        "## 2.3 Reshape"
      ]
    },
    {
      "cell_type": "code",
      "metadata": {
        "id": "_9XMcjt9Vh3J"
      },
      "source": [
        "# Reshape image in 3 dimensions (height = 28px, width = 28px , canal = 1)\n",
        "# canal = 1 => For gray scale\n",
        "X = X.reshape(-1,28,28,1)\n",
        "test_x = test_x.reshape(-1,28,28,1)"
      ],
      "execution_count": 9,
      "outputs": []
    },
    {
      "cell_type": "markdown",
      "metadata": {
        "id": "rm7FgeayVh3J"
      },
      "source": [
        "## 2.4 Label encoding"
      ]
    },
    {
      "cell_type": "markdown",
      "metadata": {
        "id": "uaQ1nnNIVh3J"
      },
      "source": [
        "**One-Hot Encoding**"
      ]
    },
    {
      "cell_type": "code",
      "metadata": {
        "id": "vIaljCBxVh3J",
        "outputId": "4ad8568e-b34e-4351-ac60-c9aba14ba12e",
        "colab": {
          "base_uri": "https://localhost:8080/"
        }
      },
      "source": [
        "# Encode labels to one hot vectors (ex : 2 -> [0,0,1,0,0,0,0,0,0,0])\n",
        "y = to_categorical(y)\n",
        "\n",
        "print(f\"Label size {y.shape}\")"
      ],
      "execution_count": 10,
      "outputs": [
        {
          "output_type": "stream",
          "name": "stdout",
          "text": [
            "Label size (60000, 10)\n"
          ]
        }
      ]
    },
    {
      "cell_type": "markdown",
      "metadata": {
        "id": "XrcCoiY5Vh3K"
      },
      "source": [
        "Labels are 10 digits numbers from 0 to 9. We need to encode these lables to one hot vectors (ex : 2 -> [0,0,1,0,0,0,0,0,0,0])."
      ]
    },
    {
      "cell_type": "markdown",
      "metadata": {
        "id": "gKmhnQPlVh3K"
      },
      "source": [
        "## 2.5 Split training and valdiation set"
      ]
    },
    {
      "cell_type": "code",
      "metadata": {
        "id": "qcRRHQu5Vh3K"
      },
      "source": [
        "# Split the train and the validation set for the fitting\n",
        "X_train, X_test, y_train, y_test = train_test_split(X, y, test_size=0.1, random_state=0)"
      ],
      "execution_count": 11,
      "outputs": []
    },
    {
      "cell_type": "code",
      "metadata": {
        "id": "6ExwmLqoVh3K",
        "outputId": "8a344885-5496-491b-aaa5-7e066a4ebeaf",
        "colab": {
          "base_uri": "https://localhost:8080/"
        }
      },
      "source": [
        "X_train.shape, X_test.shape, y_train.shape, y_test.shape"
      ],
      "execution_count": 12,
      "outputs": [
        {
          "output_type": "execute_result",
          "data": {
            "text/plain": [
              "((54000, 28, 28, 1), (6000, 28, 28, 1), (54000, 10), (6000, 10))"
            ]
          },
          "metadata": {},
          "execution_count": 12
        }
      ]
    },
    {
      "cell_type": "markdown",
      "metadata": {
        "id": "3C-bCYl0Vh3L"
      },
      "source": [
        "I choosed to split the train set in two parts : a small fraction (10%) became the validation set which the model is evaluated and the rest (90%) is used to train the model."
      ]
    },
    {
      "cell_type": "markdown",
      "metadata": {
        "_uuid": "d9f73cd8890cc89d03837ef47210b27b94b156dc",
        "id": "1zmXrY2iVh3L"
      },
      "source": [
        "**Data Visualization**"
      ]
    },
    {
      "cell_type": "code",
      "metadata": {
        "_uuid": "d00d9b96668d11a33c272b2b64cbb4397dcbba89",
        "scrolled": true,
        "id": "t2rSWMKLVh3L",
        "outputId": "4e139948-01df-4bf2-86c8-aea3d245f54d",
        "colab": {
          "base_uri": "https://localhost:8080/",
          "height": 307
        }
      },
      "source": [
        "X_train__ = X_train.reshape(X_train.shape[0], 28, 28)\n",
        "\n",
        "fig, axis = plt.subplots(1, 4, figsize=(20, 10))\n",
        "for i, ax in enumerate(axis.flat):\n",
        "    ax.imshow(X_train__[i], cmap='binary')\n",
        "    digit = y_train[i].argmax()\n",
        "    ax.set(title = f\"Real Number is {digit}\");"
      ],
      "execution_count": 13,
      "outputs": [
        {
          "output_type": "display_data",
          "data": {
            "image/png": "[encoded data removed]",
            "text/plain": [
              "<Figure size 1440x720 with 4 Axes>"
            ]
          },
          "metadata": {
            "needs_background": "light"
          }
        }
      ]
    },
    {
      "cell_type": "markdown",
      "metadata": {
        "_uuid": "a4f73e65842423bae7cfce945cd4dc0e367c180a",
        "id": "Xy9HbV2rVh3L"
      },
      "source": [
        "**Normalization**"
      ]
    },
    {
      "cell_type": "code",
      "metadata": {
        "_uuid": "82bddf135bfad1d3f91b52cd0cadb62e55db964b",
        "id": "q1Ie9W8UVh3L"
      },
      "source": [
        "mean = np.mean(X_train)\n",
        "std = np.std(X_train)\n",
        "\n",
        "def standardize(x):\n",
        "    return (x-mean)/std"
      ],
      "execution_count": 14,
      "outputs": []
    },
    {
      "cell_type": "code",
      "metadata": {
        "id": "VTlrv1GcVh3M"
      },
      "source": [
        "epochs = 50\n",
        "batch_size = 64"
      ],
      "execution_count": 15,
      "outputs": []
    },
    {
      "cell_type": "markdown",
      "metadata": {
        "id": "P_Dewz3PVh3M"
      },
      "source": [
        "# 3. CNN\n",
        "## 3.1 Define the model"
      ]
    },
    {
      "cell_type": "markdown",
      "metadata": {
        "id": "4fHhlDxlVh3M"
      },
      "source": [
        "I used the Keras Sequential API, where you have just to add one layer at a time, starting from the input.\n",
        "\n",
        "The first is the convolutional (Conv2D) layer. It is like a set of learnable filters. I choosed to set 32 filters for the two firsts conv2D layers and 64 filters for the two second layers and 128 filters for two third layers and 256 for the last ones. Each filter transforms a part of the image (defined by the kernel size) using the kernel filter. The kernel filter matrix is applied on the whole image. Filters can be seen as a transformation of the image.\n",
        "\n",
        "The CNN can isolate features that are useful everywhere from these transformed images (feature maps).\n",
        "\n",
        "The second important layer in CNN is the pooling (MaxPool2D) layer. This layer simply acts as a downsampling filter. It looks at the 2 neighboring pixels and picks the maximal value. These are used to reduce computational cost, and to some extent also reduce overfitting. We have to choose the pooling size (i.e the area size pooled each time) more the pooling dimension is high, more the downsampling is important. \n",
        "\n",
        "Combining convolutional and pooling layers, CNN are able to combine local features and learn more global features of the image.\n",
        "\n",
        "'relu' is the rectifier (activation function max(0,x). The rectifier activation function is used to add non linearity to the network. \n",
        "\n",
        "The Flatten layer is use to convert the final feature maps into a one single 1D vector. This flattening step is needed so that you can make use of fully connected layers after some convolutional/maxpool layers. It combines all the found local features of the previous convolutional layers.\n",
        "\n",
        "In the end i used the features in two fully-connected (Dense) layers which is just artificial an neural networks (ANN) classifier. In the last layer(Dense(10,activation=\"softmax\")) the net outputs distribution of probability of each class."
      ]
    },
    {
      "cell_type": "markdown",
      "metadata": {
        "_uuid": "57904be2d2935cece025811c128ca6738cf86800",
        "id": "lmoSFkyIVh3M"
      },
      "source": [
        "**Model Definition**"
      ]
    },
    {
      "cell_type": "code",
      "metadata": {
        "_uuid": "e935c979b0715a68bc8739e6a31f5d9a8189a750",
        "id": "ExP4h07kVh3M"
      },
      "source": [
        "model=Sequential()\n",
        "\n",
        "#model.add(Lambda(standardize,input_shape=(28,28,1)))    \n",
        "model.add(Conv2D(filters=64, kernel_size = (3,3), activation=\"relu\", input_shape=(28,28,1)))\n",
        "model.add(Conv2D(filters=64, kernel_size = (3,3), activation=\"relu\"))\n",
        "\n",
        "model.add(MaxPooling2D(pool_size=(2,2)))\n",
        "model.add(BatchNormalization())\n",
        "model.add(Conv2D(filters=128, kernel_size = (3,3), activation=\"relu\"))\n",
        "model.add(Conv2D(filters=128, kernel_size = (3,3), activation=\"relu\"))\n",
        "\n",
        "model.add(MaxPooling2D(pool_size=(2,2)))\n",
        "model.add(BatchNormalization())    \n",
        "model.add(Conv2D(filters=256, kernel_size = (3,3), activation=\"relu\"))\n",
        "    \n",
        "model.add(MaxPooling2D(pool_size=(2,2)))\n",
        "    \n",
        "model.add(Flatten())\n",
        "model.add(BatchNormalization())\n",
        "model.add(Dense(512,activation=\"relu\"))\n",
        "    \n",
        "model.add(Dense(10,activation=\"softmax\"))\n",
        "    \n",
        "model.compile(loss=\"categorical_crossentropy\", optimizer=\"adam\", metrics=[\"accuracy\"])"
      ],
      "execution_count": 16,
      "outputs": []
    },
    {
      "cell_type": "markdown",
      "metadata": {
        "id": "rYb6uJMAVh3M"
      },
      "source": [
        "## 3.2 Data augmentation"
      ]
    },
    {
      "cell_type": "markdown",
      "metadata": {
        "id": "78TE5x-fVh3N"
      },
      "source": [
        "In order to avoid overfitting problem, we need to expand artificially our handwritten digit dataset. We can make your existing dataset even larger. The idea is to alter the training data with small transformations to reproduce the variations occuring when someone is writing a digit.\n",
        "\n",
        "For example, the number is not centered \n",
        "The scale is not the same (some who write with big/small numbers)\n",
        "The image is rotated...\n",
        "\n",
        "Approaches that alter the training data in ways that change the array representation while keeping the label the same are known as data augmentation techniques. Some popular augmentations people use are grayscales, horizontal flips, vertical flips, random crops, color jitters, translations, rotations, and much more. \n",
        "\n",
        "By applying just a couple of these transformations to our training data, we can easily double or triple the number of training examples and create a very robust model.\n",
        "\n",
        "The improvement is important : \n",
        "   - Without data augmentation i obtained an accuracy of 98.114%\n",
        "   - With data augmentation i achieved 99.67% of accuracy"
      ]
    },
    {
      "cell_type": "code",
      "metadata": {
        "id": "ZUcLHPWHVh3N"
      },
      "source": [
        "# With data augmentation to prevent overfitting\n",
        "\n",
        "datagen = ImageDataGenerator(\n",
        "        featurewise_center=False,  # set input mean to 0 over the dataset\n",
        "        samplewise_center=False,  # set each sample mean to 0\n",
        "        featurewise_std_normalization=False,  # divide inputs by std of the dataset\n",
        "        samplewise_std_normalization=False,  # divide each input by its std\n",
        "        zca_whitening=False,  # apply ZCA whitening\n",
        "        rotation_range=10,  # randomly rotate images in the range (degrees, 0 to 180)\n",
        "        zoom_range = 0.1, # Randomly zoom image \n",
        "        width_shift_range=0.1,  # randomly shift images horizontally (fraction of total width)\n",
        "        height_shift_range=0.1,  # randomly shift images vertically (fraction of total height)\n",
        "        horizontal_flip=False,  # randomly flip images\n",
        "        vertical_flip=False)  # randomly flip images\n",
        "\n",
        "\n",
        "#datagen.fit(X_train)\n",
        "train_gen = datagen.flow(X_train, y_train, batch_size=batch_size)\n",
        "test_gen = datagen.flow(X_test, y_test, batch_size=batch_size)"
      ],
      "execution_count": 17,
      "outputs": []
    },
    {
      "cell_type": "markdown",
      "metadata": {
        "id": "LFUR-sqRVh3N"
      },
      "source": [
        "For the data augmentation, i choosed to :\n",
        "   - Randomly rotate some training images by 10 degrees\n",
        "   - Randomly  Zoom by 10% some training images\n",
        "   - Randomly shift images horizontally by 10% of the width\n",
        "   - Randomly shift images vertically by 10% of the height\n",
        "   \n",
        "I did not apply a vertical_flip nor horizontal_flip since it could have lead to misclassify symetrical numbers such as 6 and 9.\n",
        "\n",
        "Once our model is ready, we fit the training dataset ."
      ]
    },
    {
      "cell_type": "markdown",
      "metadata": {
        "_uuid": "5a9a1f37ef33b24887f97e7992b7d24567602eb8",
        "id": "DD6Y-M4ZVh3N"
      },
      "source": [
        "## 3.3 Model training"
      ]
    },
    {
      "cell_type": "code",
      "metadata": {
        "id": "JQ0_hW7SVh3N"
      },
      "source": [
        "# This make accuarcy 0.998\n",
        "#model.fit(X, y, batch_size=batch_size, validation_split=0.2, epochs=10)"
      ],
      "execution_count": 18,
      "outputs": []
    },
    {
      "cell_type": "code",
      "metadata": {
        "id": "6Qc1wvuiVh3N",
        "outputId": "d740ad0c-bd51-4571-e683-387ae538780a",
        "colab": {
          "base_uri": "https://localhost:8080/"
        }
      },
      "source": [
        "# Fit the model\n",
        "history = model.fit_generator(train_gen, \n",
        "                              epochs = epochs, \n",
        "                              steps_per_epoch = X_train.shape[0] // batch_size,\n",
        "                              validation_data = test_gen,\n",
        "                              validation_steps = X_test.shape[0] // batch_size)"
      ],
      "execution_count": null,
      "outputs": [
        {
          "output_type": "stream",
          "name": "stderr",
          "text": [
            "/usr/local/lib/python3.7/dist-packages/keras/engine/training.py:1972: UserWarning: `Model.fit_generator` is deprecated and will be removed in a future version. Please use `Model.fit`, which supports generators.\n",
            "  warnings.warn('`Model.fit_generator` is deprecated and '\n"
          ]
        },
        {
          "output_type": "stream",
          "name": "stdout",
          "text": [
            "Epoch 1/50\n",
            "197/843 [======>.......................] - ETA: 4:58 - loss: 0.2663 - accuracy: 0.9178"
          ]
        }
      ]
    },
    {
      "cell_type": "markdown",
      "metadata": {
        "id": "REbMAZ77Vh3O"
      },
      "source": [
        "**Plot CNN model**"
      ]
    },
    {
      "cell_type": "code",
      "metadata": {
        "id": "_6gnj4IHVh3O"
      },
      "source": [
        "from keras.utils.vis_utils import plot_model\n",
        "plot_model(model, to_file='model_plot.png', show_shapes=True, show_layer_names=True)"
      ],
      "execution_count": null,
      "outputs": []
    },
    {
      "cell_type": "markdown",
      "metadata": {
        "id": "E2ckPk6JVh3O"
      },
      "source": [
        "# 4. Evaluate the model\n",
        "## 4.1 Training and validation curves"
      ]
    },
    {
      "cell_type": "code",
      "metadata": {
        "id": "hFXMYqI6Vh3O"
      },
      "source": [
        "# Plot the loss and accuracy curves for training and validation \n",
        "fig, ax = plt.subplots(2,1, figsize=(18, 10))\n",
        "ax[0].plot(history.history['loss'], color='b', label=\"Training loss\")\n",
        "ax[0].plot(history.history['val_loss'], color='r', label=\"validation loss\",axes =ax[0])\n",
        "legend = ax[0].legend(loc='best', shadow=True)\n",
        "\n",
        "ax[1].plot(history.history['acc'], color='b', label=\"Training accuracy\")\n",
        "ax[1].plot(history.history['val_acc'], color='r',label=\"Validation accuracy\")\n",
        "legend = ax[1].legend(loc='best', shadow=True)"
      ],
      "execution_count": null,
      "outputs": []
    },
    {
      "cell_type": "markdown",
      "metadata": {
        "id": "b63bPRvSVh3O"
      },
      "source": [
        "## 4.2 Visualizing feature layers"
      ]
    },
    {
      "cell_type": "markdown",
      "metadata": {
        "id": "BtKAw8JQVh3O"
      },
      "source": [
        "It can be insightfull to visualise the model layers to see the features the model has learned.\n",
        "\n",
        "The code below lets us see the features in the model."
      ]
    },
    {
      "cell_type": "code",
      "metadata": {
        "id": "ij-tZnMRVh3O"
      },
      "source": [
        "fig = plt.figure(figsize=(10, 10)) # Set Figure\n",
        "\n",
        "y_pred = model.predict(X_test) # Predict encoded label as 2 => [0, 0, 1, 0, 0, 0, 0, 0, 0, 0]\n",
        "\n",
        "Y_pred = np.argmax(y_pred, 1) # Decode Predicted labels\n",
        "Y_test = np.argmax(y_test, 1) # Decode labels\n",
        "\n",
        "mat = confusion_matrix(Y_test, Y_pred) # Confusion matrix\n",
        "\n",
        "# Plot Confusion matrix\n",
        "sns.heatmap(mat.T, square=True, annot=True, cbar=False, cmap=plt.cm.Blues)\n",
        "plt.xlabel('Predicted Values')\n",
        "plt.ylabel('True Values');\n",
        "plt.show();"
      ],
      "execution_count": null,
      "outputs": []
    },
    {
      "cell_type": "markdown",
      "metadata": {
        "id": "F86QOSBHVh3O"
      },
      "source": [
        "# 5. Prediction and submition"
      ]
    },
    {
      "cell_type": "markdown",
      "metadata": {
        "id": "cGjB5caAVh3O"
      },
      "source": [
        "## 5.1 Prediction validation results"
      ]
    },
    {
      "cell_type": "code",
      "metadata": {
        "id": "HFwj0dR2Vh3P"
      },
      "source": [
        "y_pred = model.predict(X_test)\n",
        "X_test__ = X_test.reshape(X_test.shape[0], 28, 28)\n",
        "\n",
        "fig, axis = plt.subplots(4, 4, figsize=(12, 14))\n",
        "for i, ax in enumerate(axis.flat):\n",
        "    ax.imshow(X_test__[i], cmap='binary')\n",
        "    ax.set(title = f\"Real Number is {y_test[i].argmax()}\\nPredict Number is {y_pred[i].argmax()}\");"
      ],
      "execution_count": null,
      "outputs": []
    },
    {
      "cell_type": "markdown",
      "metadata": {
        "id": "tLgYE2lDVh3P"
      },
      "source": [
        "# 6. References\n",
        "\n",
        "1. https://keras.io/models/sequential/\n",
        "2. https://keras.io/layers/core/\n",
        "3. https://keras.io/layers/convolutional/\n",
        "4. https://keras.io/layers/pooling/\n",
        "5. https://www.kaggle.com/yassineghouzam/introduction-to-cnn-keras-0-997-top-6"
      ]
    }
  ]
}