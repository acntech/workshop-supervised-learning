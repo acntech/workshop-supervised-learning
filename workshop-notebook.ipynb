{
  "nbformat": 4,
  "nbformat_minor": 2,
  "metadata": {
    "kernelspec": {
      "display_name": "Python 3 (ipykernel)",
      "language": "python",
      "name": "python3"
    },
    "language_info": {
      "codemirror_mode": {
        "name": "ipython",
        "version": 3
      },
      "file_extension": ".py",
      "mimetype": "text/x-python",
      "name": "python",
      "nbconvert_exporter": "python",
      "pygments_lexer": "ipython3",
      "version": "3.7.12"
    },
    "colab": {
      "name": "workshop-notebook.ipynb",
      "provenance": []
    },
    "accelerator": "GPU"
  },
  "cells": [
    {
      "cell_type": "markdown",
      "source": [
        "# MNIST: Introduction to CNN Keras\n",
        "\n",
        "* **1. Introduction**\n",
        "* **2. Data preparation**\n",
        "    * 2.1 Load data\n",
        "    * 2.2 Normalization\n",
        "    * 2.3 Reshape\n",
        "    * 2.4 Label encoding\n",
        "    * 2.5 Split training and valdiation set\n",
        "* **3. Convolution Neural Network**\n",
        "    * 3.1 Define the model\n",
        "    * 3.2 Data augmentation\n",
        "    * 3.3 Model training\n",
        "* **4. Evaluate the model**\n",
        "    * 4.1 Training and validation curves\n",
        "* **5. Prediction and submition**\n",
        "    * 5.1 Prediction validation results\n",
        "    * 5.2 Submition\n",
        "* **6. References**\n",
        "* **7. Sklearn Soluation**"
      ],
      "metadata": {
        "id": "6CuQLlluVh26"
      }
    },
    {
      "cell_type": "markdown",
      "source": [
        "# 1. Introduction\n",
        "\n",
        "This kernel is your start in deep learning.\n",
        "\n",
        "MNIST (\"Modified National Institute of Standards and Technology\") is the de facto “hello world” dataset of computer vision. Since its release in 1999, this classic dataset of handwritten images has served as the basis for benchmarking classification algorithms. A new machine learning techniques emerge, MNIST remains a reliable resource for researchers and learners alike.  In this competition, your goal is to correctly identify digits from a dataset of tens of thousands of handwritten images. We’ve curated a set of tutorial-style kernels which cover everything from regression to neural networks. We encourage you to experiment with different algorithms to learn first-hand what works well and how techniques compare."
      ],
      "metadata": {
        "id": "E39JXcjWVh2-"
      }
    },
    {
      "cell_type": "markdown",
      "source": [
        "**Import all Necessary Libraries**"
      ],
      "metadata": {
        "_uuid": "7ed04b1e7a00a7ad31ee98a7d8e55880e6274f29",
        "id": "dlHltKkmVh2_"
      }
    },
    {
      "cell_type": "code",
      "execution_count": null,
      "source": [
        "import pandas as pd\n",
        "import numpy as np\n",
        "\n",
        "import matplotlib.pyplot as plt\n",
        "import seaborn as sns\n",
        "\n",
        "from sklearn.model_selection import train_test_split\n",
        "from sklearn.metrics import confusion_matrix\n",
        "\n",
        "\n",
        "from keras.datasets import mnist\n",
        "from keras.models import Sequential, Model\n",
        "from keras.layers import Conv2D, Lambda, MaxPooling2D # convolution layers\n",
        "from keras.layers import Dense, Dropout, Flatten # core layers\n",
        "from keras.layers import BatchNormalization\n",
        "\n",
        "from keras.preprocessing.image import ImageDataGenerator\n",
        "\n",
        "from keras.utils.np_utils import to_categorical\n",
        "\n",
        "#from keras.datasets import mnist"
      ],
      "outputs": [],
      "metadata": {
        "_uuid": "0f935bddcc5ca02702578e712bf7f396ba7154ef",
        "id": "VKKIMunOVh3A"
      }
    },
    {
      "cell_type": "markdown",
      "source": [
        "# 2. Data preparation\n",
        "## 2.1 Load data"
      ],
      "metadata": {
        "_uuid": "f94870f1682c45b0e4ea378d287302656af3cf8e",
        "id": "p1Mbgsj1Vh3D"
      }
    },
    {
      "cell_type": "markdown",
      "source": [
        "**Set data features and labels**"
      ],
      "metadata": {
        "id": "7gPy6q7mVh3F"
      }
    },
    {
      "cell_type": "code",
      "execution_count": null,
      "source": [
        "(X, y), (test_x, test_y) = mnist.load_data()\n",
        "assert X.shape == (60000, 28, 28)\n",
        "assert test_x.shape == (10000, 28, 28)\n",
        "assert y.shape == (60000,)\n",
        "assert test_y.shape == (10000,)\n",
        "\n",
        "print(\"Data are Ready!!\")\n"
      ],
      "outputs": [],
      "metadata": {
        "id": "a3kvd1sLVh3E",
        "colab": {
          "base_uri": "https://localhost:8080/"
        },
        "outputId": "9c8f1b48-1a39-4b86-8f4b-42ea5bc9ee8d"
      }
    },
    {
      "cell_type": "markdown",
      "source": [
        "## 2.2 Normalization"
      ],
      "metadata": {
        "id": "2t0PhTPYVh3H"
      }
    },
    {
      "cell_type": "markdown",
      "source": [
        "We perform a grayscale normalization to reduce the effect of illumination's differences. \n",
        "\n",
        "Moreover the CNN converg faster on [0..1] data than on [0..255]."
      ],
      "metadata": {
        "id": "2e3a4NDmVh3H"
      }
    },
    {
      "cell_type": "code",
      "execution_count": null,
      "source": [
        "X = X / 255.0\n",
        "test_x = test_x / 255.0"
      ],
      "outputs": [],
      "metadata": {
        "id": "GvW-gGQRVh3I"
      }
    },
    {
      "cell_type": "markdown",
      "source": [
        "## 2.3 Reshape"
      ],
      "metadata": {
        "id": "aSF2onrvVh3I"
      }
    },
    {
      "cell_type": "code",
      "execution_count": null,
      "source": [
        "# Reshape image in 3 dimensions (height = 28px, width = 28px , canal = 1)\n",
        "# canal = 1 => For gray scale\n",
        "X = X.reshape(-1,28,28,1)\n",
        "test_x = test_x.reshape(-1,28,28,1)"
      ],
      "outputs": [],
      "metadata": {
        "id": "_9XMcjt9Vh3J"
      }
    },
    {
      "cell_type": "markdown",
      "source": [
        "## 2.4 Label encoding"
      ],
      "metadata": {
        "id": "rm7FgeayVh3J"
      }
    },
    {
      "cell_type": "markdown",
      "source": [
        "**One-Hot Encoding**"
      ],
      "metadata": {
        "id": "uaQ1nnNIVh3J"
      }
    },
    {
      "cell_type": "code",
      "execution_count": null,
      "source": [
        "# Encode labels to one hot vectors (ex : 2 -> [0,0,1,0,0,0,0,0,0,0])\n",
        "y = to_categorical(y)\n",
        "\n",
        "print(f\"Label size {y.shape}\")"
      ],
      "outputs": [],
      "metadata": {
        "id": "vIaljCBxVh3J",
        "colab": {
          "base_uri": "https://localhost:8080/"
        },
        "outputId": "2526a268-6c2a-45ad-8ee7-f577751c5dff"
      }
    },
    {
      "cell_type": "markdown",
      "source": [
        "Labels are 10 digits numbers from 0 to 9. We need to encode these lables to one hot vectors (ex : 2 -> [0,0,1,0,0,0,0,0,0,0])."
      ],
      "metadata": {
        "id": "XrcCoiY5Vh3K"
      }
    },
    {
      "cell_type": "markdown",
      "source": [
        "## 2.5 Split training and valdiation set"
      ],
      "metadata": {
        "id": "gKmhnQPlVh3K"
      }
    },
    {
      "cell_type": "code",
      "execution_count": null,
      "source": [
        "# Split the train and the validation set for the fitting\n",
        "X_train, X_test, y_train, y_test = train_test_split(X, y, test_size=0.1, random_state=0)"
      ],
      "outputs": [],
      "metadata": {
        "id": "qcRRHQu5Vh3K"
      }
    },
    {
      "cell_type": "code",
      "execution_count": null,
      "source": [
        "X_train.shape, X_test.shape, y_train.shape, y_test.shape"
      ],
      "outputs": [],
      "metadata": {
        "id": "6ExwmLqoVh3K",
        "colab": {
          "base_uri": "https://localhost:8080/"
        },
        "outputId": "8943b6dd-dd1f-4987-fbbe-eec52ed13b74"
      }
    },
    {
      "cell_type": "markdown",
      "source": [
        "I choosed to split the train set in two parts : a small fraction (10%) became the validation set which the model is evaluated and the rest (90%) is used to train the model."
      ],
      "metadata": {
        "id": "3C-bCYl0Vh3L"
      }
    },
    {
      "cell_type": "markdown",
      "source": [
        "**Data Visualization**"
      ],
      "metadata": {
        "_uuid": "d9f73cd8890cc89d03837ef47210b27b94b156dc",
        "id": "1zmXrY2iVh3L"
      }
    },
    {
      "cell_type": "code",
      "execution_count": null,
      "source": [
        "X_train__ = X_train.reshape(X_train.shape[0], 28, 28)\n",
        "\n",
        "fig, axis = plt.subplots(1, 4, figsize=(20, 10))\n",
        "for i, ax in enumerate(axis.flat):\n",
        "    ax.imshow(X_train__[i], cmap='binary')\n",
        "    digit = y_train[i].argmax()\n",
        "    ax.set(title = f\"Real Number is {digit}\")"
      ],
      "outputs": [],
      "metadata": {
        "_uuid": "d00d9b96668d11a33c272b2b64cbb4397dcbba89",
        "scrolled": true,
        "id": "t2rSWMKLVh3L",
        "colab": {
          "base_uri": "https://localhost:8080/",
          "height": 253
        },
        "outputId": "a0c2ef0a-157c-4e6c-d3a3-6a8f5a11497a"
      }
    },
    {
      "cell_type": "markdown",
      "source": [
        "**Normalization**"
      ],
      "metadata": {
        "_uuid": "a4f73e65842423bae7cfce945cd4dc0e367c180a",
        "id": "Xy9HbV2rVh3L"
      }
    },
    {
      "cell_type": "code",
      "execution_count": null,
      "source": [
        "mean = np.mean(X_train)\n",
        "std = np.std(X_train)\n",
        "\n",
        "def standardize(x):\n",
        "    return (x-mean)/std"
      ],
      "outputs": [],
      "metadata": {
        "_uuid": "82bddf135bfad1d3f91b52cd0cadb62e55db964b",
        "id": "q1Ie9W8UVh3L"
      }
    },
    {
      "cell_type": "markdown",
      "source": [
        "# 3. CNN\n",
        "## 3.1 Define the model"
      ],
      "metadata": {
        "id": "P_Dewz3PVh3M"
      }
    },
    {
      "cell_type": "markdown",
      "source": [
        "I used the Keras Sequential API, where you have just to add one layer at a time, starting from the input.\n",
        "\n",
        "The first is the convolutional (Conv2D) layer. It is like a set of learnable filters. I choosed to set 32 filters for the two firsts conv2D layers and 64 filters for the two second layers and 128 filters for two third layers and 256 for the last ones. Each filter transforms a part of the image (defined by the kernel size) using the kernel filter. The kernel filter matrix is applied on the whole image. Filters can be seen as a transformation of the image.\n",
        "\n",
        "The CNN can isolate features that are useful everywhere from these transformed images (feature maps).\n",
        "\n",
        "The second important layer in CNN is the pooling (MaxPool2D) layer. This layer simply acts as a downsampling filter. It looks at the 2 neighboring pixels and picks the maximal value. These are used to reduce computational cost, and to some extent also reduce overfitting. We have to choose the pooling size (i.e the area size pooled each time) more the pooling dimension is high, more the downsampling is important. \n",
        "\n",
        "Combining convolutional and pooling layers, CNN are able to combine local features and learn more global features of the image.\n",
        "\n",
        "'relu' is the rectifier (activation function max(0,x). The rectifier activation function is used to add non linearity to the network. \n",
        "\n",
        "The Flatten layer is use to convert the final feature maps into a one single 1D vector. This flattening step is needed so that you can make use of fully connected layers after some convolutional/maxpool layers. It combines all the found local features of the previous convolutional layers.\n",
        "\n",
        "In the end i used the features in two fully-connected (Dense) layers which is just artificial an neural networks (ANN) classifier. In the last layer(Dense(10,activation=\"softmax\")) the net outputs distribution of probability of each class."
      ],
      "metadata": {
        "id": "4fHhlDxlVh3M"
      }
    },
    {
      "cell_type": "markdown",
      "source": [
        "**Model Definition**"
      ],
      "metadata": {
        "_uuid": "57904be2d2935cece025811c128ca6738cf86800",
        "id": "lmoSFkyIVh3M"
      }
    },
    {
      "cell_type": "code",
      "execution_count": null,
      "source": [
        "model=Sequential()\n",
        "\n",
        "#model.add(Lambda(standardize,input_shape=(28,28,1)))    \n",
        "model.add(Conv2D(filters=64, kernel_size = (3,3), activation=\"relu\", input_shape=(28,28,1)))\n",
        "model.add(Conv2D(filters=64, kernel_size = (3,3), activation=\"relu\"))\n",
        "\n",
        "model.add(MaxPooling2D(pool_size=(2,2)))\n",
        "model.add(BatchNormalization())\n",
        "model.add(Conv2D(filters=128, kernel_size = (3,3), activation=\"relu\"))\n",
        "model.add(Conv2D(filters=128, kernel_size = (3,3), activation=\"relu\"))\n",
        "\n",
        "model.add(MaxPooling2D(pool_size=(2,2)))\n",
        "model.add(BatchNormalization())    \n",
        "model.add(Conv2D(filters=256, kernel_size = (3,3), activation=\"relu\"))\n",
        "    \n",
        "model.add(MaxPooling2D(pool_size=(2,2)))\n",
        "    \n",
        "model.add(Flatten())\n",
        "model.add(BatchNormalization())\n",
        "model.add(Dense(512,activation=\"relu\"))\n",
        "    \n",
        "model.add(Dense(10,activation=\"softmax\"))\n",
        "    \n",
        "model.compile(loss=\"categorical_crossentropy\", optimizer=\"adam\", metrics=[\"accuracy\"])"
      ],
      "outputs": [],
      "metadata": {
        "_uuid": "e935c979b0715a68bc8739e6a31f5d9a8189a750",
        "id": "ExP4h07kVh3M"
      }
    },
    {
      "cell_type": "markdown",
      "source": [
        "## 3.2 Data augmentation"
      ],
      "metadata": {
        "id": "rYb6uJMAVh3M"
      }
    },
    {
      "cell_type": "markdown",
      "source": [
        "In order to avoid overfitting problem, we need to expand artificially our handwritten digit dataset. We can make your existing dataset even larger. The idea is to alter the training data with small transformations to reproduce the variations occuring when someone is writing a digit.\n",
        "\n",
        "For example, the number is not centered \n",
        "The scale is not the same (some who write with big/small numbers)\n",
        "The image is rotated...\n",
        "\n",
        "Approaches that alter the training data in ways that change the array representation while keeping the label the same are known as data augmentation techniques. Some popular augmentations people use are grayscales, horizontal flips, vertical flips, random crops, color jitters, translations, rotations, and much more. \n",
        "\n",
        "By applying just a couple of these transformations to our training data, we can easily double or triple the number of training examples and create a very robust model.\n",
        "\n",
        "The improvement is important : \n",
        "   - Without data augmentation i obtained an accuracy of 98.114%\n",
        "   - With data augmentation i achieved 99.67% of accuracy"
      ],
      "metadata": {
        "id": "78TE5x-fVh3N"
      }
    },
    {
      "cell_type": "code",
      "execution_count": null,
      "source": [
        "epochs = 5\n",
        "batch_size = 64"
      ],
      "outputs": [],
      "metadata": {
        "id": "VTlrv1GcVh3M"
      }
    },
    {
      "cell_type": "code",
      "execution_count": null,
      "source": [
        "# With data augmentation to prevent overfitting\n",
        "\n",
        "datagen = ImageDataGenerator(\n",
        "        featurewise_center=False,  # set input mean to 0 over the dataset\n",
        "        samplewise_center=False,  # set each sample mean to 0\n",
        "        featurewise_std_normalization=False,  # divide inputs by std of the dataset\n",
        "        samplewise_std_normalization=False,  # divide each input by its std\n",
        "        zca_whitening=False,  # apply ZCA whitening\n",
        "        rotation_range=10,  # randomly rotate images in the range (degrees, 0 to 180)\n",
        "        zoom_range = 0.1, # Randomly zoom image \n",
        "        width_shift_range=0.1,  # randomly shift images horizontally (fraction of total width)\n",
        "        height_shift_range=0.1,  # randomly shift images vertically (fraction of total height)\n",
        "        horizontal_flip=False,  # randomly flip images\n",
        "        vertical_flip=False)  # randomly flip images\n",
        "\n",
        "\n",
        "#datagen.fit(X_train)\n",
        "train_gen = datagen.flow(X_train, y_train, batch_size=batch_size)\n",
        "test_gen = datagen.flow(X_test, y_test, batch_size=batch_size)"
      ],
      "outputs": [],
      "metadata": {
        "id": "ZUcLHPWHVh3N"
      }
    },
    {
      "cell_type": "markdown",
      "source": [
        "For the data augmentation, i choosed to :\n",
        "   - Randomly rotate some training images by 10 degrees\n",
        "   - Randomly  Zoom by 10% some training images\n",
        "   - Randomly shift images horizontally by 10% of the width\n",
        "   - Randomly shift images vertically by 10% of the height\n",
        "   \n",
        "I did not apply a vertical_flip nor horizontal_flip since it could have lead to misclassify symetrical numbers such as 6 and 9.\n",
        "\n",
        "Once our model is ready, we fit the training dataset ."
      ],
      "metadata": {
        "id": "LFUR-sqRVh3N"
      }
    },
    {
      "cell_type": "markdown",
      "source": [
        "## 3.3 Model training"
      ],
      "metadata": {
        "_uuid": "5a9a1f37ef33b24887f97e7992b7d24567602eb8",
        "id": "DD6Y-M4ZVh3N"
      }
    },
    {
      "cell_type": "code",
      "execution_count": null,
      "source": [
        "# This make accuarcy 0.998\n",
        "#model.fit(X, y, batch_size=batch_size, validation_split=0.2, epochs=10)"
      ],
      "outputs": [],
      "metadata": {
        "id": "JQ0_hW7SVh3N"
      }
    },
    {
      "cell_type": "code",
      "execution_count": null,
      "source": [
        "# Fit the model\n",
        "history = model.fit(train_gen, \n",
        "                              epochs = epochs, \n",
        "                              steps_per_epoch = X_train.shape[0] // batch_size,\n",
        "                              validation_data = test_gen,\n",
        "                              validation_steps = X_test.shape[0] // batch_size)"
      ],
      "outputs": [],
      "metadata": {
        "id": "6Qc1wvuiVh3N",
        "colab": {
          "base_uri": "https://localhost:8080/"
        },
        "outputId": "4828f5c7-3643-4bbb-8205-e8bcc3f2a5b4"
      }
    },
    {
      "cell_type": "markdown",
      "source": [
        "**Plot CNN model**"
      ],
      "metadata": {
        "id": "REbMAZ77Vh3O"
      }
    },
    {
      "cell_type": "code",
      "execution_count": null,
      "source": [
        "from keras.utils.vis_utils import plot_model\n",
        "plot_model(model, to_file='model_plot.png', show_shapes=True, show_layer_names=True)"
      ],
      "outputs": [],
      "metadata": {
        "id": "_6gnj4IHVh3O",
        "outputId": "27689d60-c47e-4c22-f594-5668e6e772db",
        "colab": {
          "base_uri": "https://localhost:8080/",
          "height": 1000
        }
      }
    },
    {
      "cell_type": "markdown",
      "source": [
        "# 4. Evaluate the model\n",
        "## 4.1 Training and validation curves"
      ],
      "metadata": {
        "id": "E2ckPk6JVh3O"
      }
    },
    {
      "cell_type": "code",
      "execution_count": null,
      "source": [
        "# Plot the loss and accuracy curves for training and validation \n",
        "fig, ax = plt.subplots(2,1, figsize=(18, 10))\n",
        "ax[0].plot(history.history['loss'], color='b', label=\"Training loss\")\n",
        "ax[0].plot(history.history['val_loss'], color='r', label=\"validation loss\",axes =ax[0])\n",
        "legend = ax[0].legend(loc='best', shadow=True)\n",
        "\n",
        "ax[1].plot(history.history['accuracy'], color='b', label=\"Training accuracy\")\n",
        "ax[1].plot(history.history['val_accuracy'], color='r',label=\"Validation accuracy\")\n",
        "legend = ax[1].legend(loc='best', shadow=True)"
      ],
      "outputs": [],
      "metadata": {
        "id": "hFXMYqI6Vh3O",
        "outputId": "55020bfc-8148-41f4-aff1-160c8c31c9b3",
        "colab": {
          "base_uri": "https://localhost:8080/",
          "height": 528
        }
      }
    },
    {
      "cell_type": "markdown",
      "source": [
        "## 4.2 Visualizing feature layers"
      ],
      "metadata": {
        "id": "b63bPRvSVh3O"
      }
    },
    {
      "cell_type": "markdown",
      "source": [
        "It can be insightfull to visualise the model layers to see the features the model has learned.\n",
        "\n",
        "The code below lets us see the features in the model."
      ],
      "metadata": {
        "id": "BtKAw8JQVh3O"
      }
    },
    {
      "cell_type": "code",
      "execution_count": null,
      "source": [
        "layer_names = [layer.name for layer in model.layers]\n",
        "layer_outputs = [layer.output for layer in model.layers]\n",
        "feature_map_model = Model(inputs=model.input, outputs=layer_outputs)\n",
        "test_digit = test_x[0]\n",
        "feature_maps = feature_map_model.predict(np.expand_dims(test_digit, axis=0))\n",
        "\n",
        "def display_activation(activation, title, col_size, row_size): \n",
        "    activation_index=0\n",
        "    fig, ax = plt.subplots(row_size, col_size, figsize=(row_size*2.5,col_size*1.5))\n",
        "    fig.suptitle(title)\n",
        "    for row in range(0,row_size):\n",
        "        for col in range(0,col_size):\n",
        "            # ax[row][col].set_title(title)\n",
        "            ax[row][col].imshow(activation[0, :, :, activation_index], cmap='gray')\n",
        "            activation_index += 1"
      ],
      "outputs": [],
      "metadata": {
        "id": "wKde_FsreXRN"
      }
    },
    {
      "cell_type": "code",
      "execution_count": null,
      "source": [
        "plt.imshow(test_digit[:,:,0]);\n"
      ],
      "outputs": [],
      "metadata": {
        "id": "eVgjO-k-lMzD",
        "outputId": "32043447-825e-44a6-a5ad-ad04ec54eafc",
        "colab": {
          "base_uri": "https://localhost:8080/",
          "height": 265
        }
      }
    },
    {
      "cell_type": "code",
      "execution_count": null,
      "source": [
        "for index, (layer_name, feature_map) in enumerate(zip(layer_names, feature_maps)):  \n",
        "  if len(feature_map.shape) == 4:\n",
        "\n",
        "    display_activation(feature_map,layer_name, 8, 8)\n"
      ],
      "outputs": [],
      "metadata": {
        "id": "u6w_HID9lndd",
        "outputId": "5fd7bb61-0703-4cac-8195-5f299f4a7a36",
        "colab": {
          "base_uri": "https://localhost:8080/",
          "height": 1000
        }
      }
    },
    {
      "cell_type": "code",
      "execution_count": null,
      "source": [
        "from matplotlib import pyplot\n",
        "feature_maps = model.predict(X_test)\n",
        "# plot the output from each block\n",
        "square = 8\n",
        "for fmap in feature_maps:\n",
        "\t# plot all 64 maps in an 8x8 squares\n",
        "\tix = 1\n",
        "\tfor _ in range(square):\n",
        "\t\tfor _ in range(square):\n",
        "\t\t\t# specify subplot and turn of axis\n",
        "\t\t\tax = pyplot.subplot(square, square, ix)\n",
        "\t\t\tax.set_xticks([])\n",
        "\t\t\tax.set_yticks([])\n",
        "\t\t\t# plot filter channel in grayscale\n",
        "\t\t\tpyplot.imshow(fmap[0, :, :, ix-1], cmap='gray')\n",
        "\t\t\tix += 1\n",
        "\t# show the figure\n",
        "\tpyplot.show()"
      ],
      "outputs": [],
      "metadata": {
        "id": "lMO72ZxMdg8v",
        "outputId": "c93d44fc-ae96-4382-b621-cf555011bee5",
        "colab": {
          "base_uri": "https://localhost:8080/",
          "height": 277
        }
      }
    },
    {
      "cell_type": "markdown",
      "source": [
        "# 5. Prediction and submition"
      ],
      "metadata": {
        "id": "F86QOSBHVh3O"
      }
    },
    {
      "cell_type": "markdown",
      "source": [
        "## 5.1 Prediction validation results"
      ],
      "metadata": {
        "id": "cGjB5caAVh3O"
      }
    },
    {
      "cell_type": "code",
      "execution_count": null,
      "source": [
        "y_pred = model.predict(X_test)\n",
        "X_test__ = X_test.reshape(X_test.shape[0], 28, 28)\n",
        "\n",
        "fig, axis = plt.subplots(4, 4, figsize=(12, 14))\n",
        "for i, ax in enumerate(axis.flat):\n",
        "    ax.imshow(X_test__[i], cmap='binary')\n",
        "    ax.set(title = f\"Real Number is {y_test[i].argmax()}\\nPredict Number is {y_pred[i].argmax()}\");"
      ],
      "outputs": [],
      "metadata": {
        "id": "HFwj0dR2Vh3P",
        "outputId": "0b1c6ceb-0fe0-4a60-f190-bcfb303bb6f8",
        "colab": {
          "base_uri": "https://localhost:8080/",
          "height": 820
        }
      }
    },
    {
      "cell_type": "markdown",
      "source": [
        "# 6. References\n",
        "\n",
        "1. https://keras.io/models/sequential/\n",
        "2. https://keras.io/layers/core/\n",
        "3. https://keras.io/layers/convolutional/\n",
        "4. https://keras.io/layers/pooling/\n",
        "5. https://www.kaggle.com/yassineghouzam/introduction-to-cnn-keras-0-997-top-6"
      ],
      "metadata": {
        "id": "tLgYE2lDVh3P"
      }
    }
  ]
}